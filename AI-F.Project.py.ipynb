{
 "cells": [
  {
   "cell_type": "code",
   "execution_count": 2,
   "id": "a017f916-81e6-460e-b636-1b03fed926a9",
   "metadata": {},
   "outputs": [
    {
     "name": "stdout",
     "output_type": "stream",
     "text": [
      "            timestamp  heart_rate  blood_oxygen activity_level\n",
      "0 2023-10-01 00:00:00          73            96            low\n",
      "1 2023-10-01 00:01:00          60            98           high\n",
      "2 2023-10-01 00:02:00          71            93            low\n",
      "3 2023-10-01 00:03:00          73            90           high\n",
      "4 2023-10-01 00:04:00          60            96       moderate\n"
     ]
    }
   ],
   "source": [
    "import pandas as pd\n",
    "import numpy as np\n",
    "\n",
    "# Generate timestamps at 1-minute intervals\n",
    "timestamps = pd.date_range(start='2023-10-01', periods=100, freq='T')\n",
    "\n",
    "# Simulate health metrics\n",
    "heart_rate = np.random.randint(60, 100, size=100)            # Typical heart rate range for infants\n",
    "blood_oxygen = np.random.randint(90, 100, size=100)          # Oxygen saturation levels (SpO₂)\n",
    "activity_level = np.random.choice(['low', 'moderate', 'high'], size=100)  # Activity classifications\n",
    "\n",
    "# Assemble data into a DataFrame\n",
    "health_data = pd.DataFrame({\n",
    "    'timestamp': timestamps,\n",
    "    'heart_rate': heart_rate,\n",
    "    'blood_oxygen': blood_oxygen,\n",
    "    'activity_level': activity_level\n",
    "})\n",
    "\n",
    "# Preview the first five rows\n",
    "print(health_data.head())"
   ]
  },
  {
   "cell_type": "code",
   "execution_count": 3,
   "id": "d83bf660-253c-4a91-9f97-a4c7b17fd99d",
   "metadata": {},
   "outputs": [
    {
     "name": "stdout",
     "output_type": "stream",
     "text": [
      "              precision    recall  f1-score   support\n",
      "\n",
      "           0       0.77      0.87      0.82        77\n",
      "           1       0.23      0.13      0.17        23\n",
      "\n",
      "    accuracy                           0.70       100\n",
      "   macro avg       0.50      0.50      0.49       100\n",
      "weighted avg       0.65      0.70      0.67       100\n",
      "\n"
     ]
    }
   ],
   "source": [
    "import pandas as pd\n",
    "import numpy as np\n",
    "from sklearn.ensemble import RandomForestClassifier\n",
    "from sklearn.model_selection import train_test_split\n",
    "from sklearn.metrics import classification_report\n",
    "\n",
    "# Simulate labeled health data\n",
    "np.random.seed(42)\n",
    "data_size = 500\n",
    "\n",
    "df = pd.DataFrame({\n",
    "    'heart_rate': np.random.randint(50, 120, data_size),\n",
    "    'blood_oxygen': np.random.randint(85, 100, data_size),\n",
    "    'activity_level': np.random.choice(['low', 'moderate', 'high'], size=data_size),\n",
    "    # Label: 0 - Normal, 1 - Abnormal\n",
    "    'label': np.random.choice([0, 1], size=data_size, p=[0.8, 0.2])\n",
    "})\n",
    "\n",
    "# Convert categorical activity_level to numerical\n",
    "df['activity_level_encoded'] = df['activity_level'].map({'low': 0, 'moderate': 1, 'high': 2})\n",
    "\n",
    "# Features and target\n",
    "X = df[['heart_rate', 'blood_oxygen', 'activity_level_encoded']]\n",
    "y = df['label']\n",
    "\n",
    "# Split data\n",
    "X_train, X_test, y_train, y_test = train_test_split(X, y, test_size=0.2, random_state=42)\n",
    "\n",
    "# Train model\n",
    "model = RandomForestClassifier(n_estimators=100, random_state=42)\n",
    "model.fit(X_train, y_train)\n",
    "\n",
    "# Predict and evaluate\n",
    "y_pred = model.predict(X_test)\n",
    "print(classification_report(y_test, y_pred))"
   ]
  },
  {
   "cell_type": "code",
   "execution_count": 5,
   "id": "be5e5da9-2dfa-4cbf-bc4b-1e050e66e446",
   "metadata": {},
   "outputs": [
    {
     "name": "stdout",
     "output_type": "stream",
     "text": [
      "📊 Classification Report:\n",
      "              precision    recall  f1-score   support\n",
      "\n",
      "           0       1.00      1.00      1.00        52\n",
      "           1       1.00      1.00      1.00        48\n",
      "\n",
      "    accuracy                           1.00       100\n",
      "   macro avg       1.00      1.00      1.00       100\n",
      "weighted avg       1.00      1.00      1.00       100\n",
      "\n",
      "🔎 Confusion Matrix:\n",
      "[[52  0]\n",
      " [ 0 48]]\n",
      "✅ Cross-Validation Accuracy Scores: [1. 1. 1. 1. 1.]\n",
      "🔁 Mean CV Score: 1.0\n"
     ]
    }
   ],
   "source": [
    "import pandas as pd\n",
    "import numpy as np\n",
    "from sklearn.ensemble import RandomForestClassifier\n",
    "from sklearn.model_selection import train_test_split, cross_val_score\n",
    "from sklearn.metrics import classification_report, confusion_matrix\n",
    "\n",
    "# ----------------------------\n",
    "# Step 1: Simulate health data\n",
    "# ----------------------------\n",
    "np.random.seed(42)\n",
    "data_size = 500\n",
    "\n",
    "df = pd.DataFrame({\n",
    "    'timestamp': pd.date_range(start='2023-10-01', periods=data_size, freq='T'),\n",
    "    'heart_rate': np.random.randint(50, 120, data_size),\n",
    "    'blood_oxygen': np.random.randint(85, 100, data_size),\n",
    "    'activity_level': np.random.choice(['low', 'moderate', 'high'], size=data_size)\n",
    "})\n",
    "\n",
    "# -----------------------------------------------\n",
    "# Step 2: Generate anomaly labels for the dataset\n",
    "# -----------------------------------------------\n",
    "def classify_anomaly(row):\n",
    "    if row['heart_rate'] > 110 or row['blood_oxygen'] < 90:\n",
    "        return 'Anomaly'\n",
    "    else:\n",
    "        return 'Normal'\n",
    "\n",
    "df['anomaly'] = df.apply(classify_anomaly, axis=1)\n",
    "\n",
    "# -----------------------------------------------------\n",
    "# Step 3: Feature engineering and label transformation\n",
    "# -----------------------------------------------------\n",
    "df['activity_encoded'] = df['activity_level'].map({'low': 0, 'moderate': 1, 'high': 2})\n",
    "X = df[['heart_rate', 'blood_oxygen', 'activity_encoded']]\n",
    "y = df['anomaly'].apply(lambda x: 1 if x == 'Anomaly' else 0)\n",
    "\n",
    "# --------------------------------------\n",
    "# Step 4: Train-test split and model fit\n",
    "# --------------------------------------\n",
    "X_train, X_test, y_train, y_test = train_test_split(X, y, test_size=0.2, random_state=42)\n",
    "model = RandomForestClassifier(n_estimators=100, random_state=42)\n",
    "model.fit(X_train, y_train)\n",
    "\n",
    "# ------------------------------------------\n",
    "# Step 5: Model predictions and evaluation\n",
    "# ------------------------------------------\n",
    "y_pred = model.predict(X_test)\n",
    "print(\"📊 Classification Report:\")\n",
    "print(classification_report(y_test, y_pred))\n",
    "\n",
    "print(\"🔎 Confusion Matrix:\")\n",
    "print(confusion_matrix(y_test, y_pred))\n",
    "\n",
    "# ----------------------------------------------\n",
    "# Step 6: Cross-validation for model robustness\n",
    "# ----------------------------------------------\n",
    "cv_scores = cross_val_score(model, X, y, cv=5)\n",
    "print(\"✅ Cross-Validation Accuracy Scores:\", cv_scores)\n",
    "print(\"🔁 Mean CV Score:\", round(cv_scores.mean(), 3))"
   ]
  },
  {
   "cell_type": "markdown",
   "id": "b13ca6eb-50bc-416d-8ffa-78ff89b7f141",
   "metadata": {},
   "source": [
    "/weanwise_app\n",
    "│\n",
    "├── app.py\n",
    "├── templates/\n",
    "│   └── index.html\n",
    "└── static/\n",
    "    └── chart.js (optional, if using JS charts)"
   ]
  },
  {
   "cell_type": "code",
   "execution_count": null,
   "id": "d69d48f4-0c4b-4646-82cc-1af942690b0d",
   "metadata": {},
   "outputs": [
    {
     "name": "stderr",
     "output_type": "stream",
     "text": [
      "WARNING: This is a development server. Do not use it in a production deployment. Use a production WSGI server instead.\n",
      " * Running on http://localhost:5000\n",
      "Press CTRL+C to quit\n"
     ]
    }
   ],
   "source": [
    "from flask import Flask, render_template\n",
    "import pandas as pd\n",
    "import numpy as np\n",
    "import plotly.graph_objs as go\n",
    "import plotly.io as pio\n",
    "\n",
    "app = Flask(__name__)\n",
    "\n",
    "# ----------------------------\n",
    "# Simulate health data\n",
    "# ----------------------------\n",
    "np.random.seed(42)\n",
    "df = pd.DataFrame({\n",
    "    'timestamp': pd.date_range(start='2023-10-01', periods=50, freq='H'),\n",
    "    'heart_rate': np.random.randint(60, 130, size=50),\n",
    "    'blood_oxygen': np.random.randint(85, 100, size=50)\n",
    "})\n",
    "\n",
    "# ----------------------------\n",
    "# Detect health status\n",
    "# ----------------------------\n",
    "latest_hr = df['heart_rate'].iloc[-1]\n",
    "latest_spo2 = df['blood_oxygen'].iloc[-1]\n",
    "status = 'Anomaly' if latest_hr > 110 or latest_spo2 < 90 else 'Normal'\n",
    "\n",
    "# ----------------------------\n",
    "# Create interactive chart\n",
    "# ----------------------------\n",
    "fig = go.Figure()\n",
    "fig.add_trace(go.Scatter(\n",
    "    x=df['timestamp'], y=df['heart_rate'],\n",
    "    mode='lines+markers', name='Heart Rate'\n",
    "))\n",
    "fig.add_trace(go.Scatter(\n",
    "    x=df['timestamp'], y=df['blood_oxygen'],\n",
    "    mode='lines+markers', name='Blood Oxygen'\n",
    "))\n",
    "fig.update_layout(\n",
    "    title='Health Metric Trends',\n",
    "    xaxis_title='Time',\n",
    "    yaxis_title='Value'\n",
    ")\n",
    "\n",
    "chart_html = pio.to_html(fig, full_html=False)\n",
    "\n",
    "# ----------------------------\n",
    "# Flask route\n",
    "# ----------------------------\n",
    "@app.route('/')\n",
    "def home():\n",
    "    latest_data = {\n",
    "        'heart_rate': latest_hr,\n",
    "        'blood_oxygen': latest_spo2,\n",
    "        'status': status,\n",
    "        'chart': chart_html\n",
    "    }\n",
    "    return render_template('index.html', data=latest_data)\n",
    "\n",
    "# ----------------------------\n",
    "# Run server in prototype mode\n",
    "# ----------------------------\n",
    "from werkzeug.serving import run_simple\n",
    "run_simple(\"localhost\", 5000, app, use_debugger=True)"
   ]
  },
  {
   "cell_type": "code",
   "execution_count": null,
   "id": "98f6551f-3041-4a8a-9bce-a83df2a9f64a",
   "metadata": {},
   "outputs": [],
   "source": [
    "# Use a lightweight Python base image\n",
    "FROM python:3.11-slim\n",
    "\n",
    "# Set working directory\n",
    "WORKDIR /app\n",
    "\n",
    "# Copy application files\n",
    "COPY . /app\n",
    "\n",
    "# Install dependencies\n",
    "RUN pip install -r requirements.txt\n",
    "\n",
    "# Expose Flask’s default port\n",
    "EXPOSE 5000\n",
    "\n",
    "# Run the app\n",
    "CMD [\"python\", \"app.py\"]"
   ]
  },
  {
   "cell_type": "code",
   "execution_count": null,
   "id": "87bc35a7-5182-4349-9dbc-2053e1985acc",
   "metadata": {},
   "outputs": [],
   "source": [
    "docker build -t weanwise-app .\n",
    "docker run -p 5000:5000 weanwise-app"
   ]
  },
  {
   "cell_type": "code",
   "execution_count": null,
   "id": "f75ec86e-ca27-4398-bed2-2e063bebb9f6",
   "metadata": {},
   "outputs": [],
   "source": [
    "gcloud auth login\n",
    "gcloud config set project YOUR_PROJECT_ID\n",
    "\n",
    "docker tag weanwise-app gcr.io/YOUR_PROJECT_ID/weanwise-app\n",
    "docker push gcr.io/YOUR_PROJECT_ID/weanwise-app"
   ]
  },
  {
   "cell_type": "code",
   "execution_count": null,
   "id": "871c437d-f367-4da5-a267-d1090da34501",
   "metadata": {},
   "outputs": [],
   "source": [
    "gcloud run deploy weanwise-app \\\n",
    "  --image gcr.io/YOUR_PROJECT_ID/weanwise-app \\\n",
    "  --platform managed \\\n",
    "  --region YOUR_REGION \\\n",
    "  --allow-unauthenticated"
   ]
  },
  {
   "cell_type": "code",
   "execution_count": null,
   "id": "cf834856-6c10-45e3-80bf-8c5ae7968399",
   "metadata": {},
   "outputs": [],
   "source": [
    "pip install firebase-admin"
   ]
  },
  {
   "cell_type": "code",
   "execution_count": null,
   "id": "e5aa6a2d-7f9f-4d43-878d-b2abec85158d",
   "metadata": {},
   "outputs": [],
   "source": [
    "import firebase_admin\n",
    "from firebase_admin import credentials, firestore\n",
    "\n",
    "cred = credentials.Certificate('path/to/firebase-key.json')  # your downloaded private key\n",
    "firebase_admin.initialize_app(cred)\n",
    "db = firestore.client()"
   ]
  },
  {
   "cell_type": "code",
   "execution_count": null,
   "id": "ca76d06f-c96c-41ee-860e-f7e0501ffb02",
   "metadata": {},
   "outputs": [],
   "source": [
    "from flask import request, jsonify\n",
    "\n",
    "@app.route('/upload', methods=['POST'])\n",
    "def upload():\n",
    "    data = request.json  # Expect JSON from wearable device\n",
    "    heart_rate = data.get('heart_rate')\n",
    "    blood_oxygen = data.get('blood_oxygen')\n",
    "    timestamp = data.get('timestamp')\n",
    "\n",
    "    # Store data in Firestore\n",
    "    db.collection('health_metrics').add({\n",
    "        'heart_rate': heart_rate,\n",
    "        'blood_oxygen': blood_oxygen,\n",
    "        'timestamp': timestamp\n",
    "    })\n",
    "\n",
    "    return jsonify({'status': 'success'}), 200\n",
    "\n",
    "\n",
    "@app.route('/metrics', methods=['GET'])\n",
    "def metrics():\n",
    "    records = db.collection('health_metrics').order_by('timestamp', direction=firestore.Query.DESCENDING).limit(10).stream()\n",
    "    result = []\n",
    "    for record in records:\n",
    "        result.append(record.to_dict())\n",
    "    return jsonify(result)"
   ]
  },
  {
   "cell_type": "code",
   "execution_count": null,
   "id": "1c02eb0c-f534-429a-9c0a-56a32d29e52c",
   "metadata": {},
   "outputs": [],
   "source": [
    "@app.before_request\n",
    "def check_token():\n",
    "    token = request.headers.get('Authorization')\n",
    "    if token != 'Bearer YOUR_SECRET_KEY':\n",
    "        return jsonify({'error': 'Unauthorized'}), 401"
   ]
  },
  {
   "cell_type": "markdown",
   "id": "2a5fc871-85c3-4a26-a7df-91c31385b988",
   "metadata": {},
   "source": [
    "weanwise_app/\n",
    "├── app.py\n",
    "├── requirements.txt\n",
    "├── templates/\n",
    "│   └── index.html\n",
    "├── static/\n",
    "│   └── chart.js (optional)\n",
    "└── firebase-key.json (if using Firestore)"
   ]
  },
  {
   "cell_type": "code",
   "execution_count": null,
   "id": "009b7e13-7a15-47c8-a9cd-55d6866f8895",
   "metadata": {},
   "outputs": [],
   "source": [
    "FROM python:3.11-slim\n",
    "WORKDIR /app\n",
    "COPY . /app\n",
    "RUN pip install --no-cache-dir -r requirements.txt\n",
    "EXPOSE 5000\n",
    "CMD [\"python\", \"app.py\"]"
   ]
  },
  {
   "cell_type": "code",
   "execution_count": null,
   "id": "3219a25c-e852-4156-b43a-b29a2c21b261",
   "metadata": {},
   "outputs": [],
   "source": [
    "docker build -t weanwise-health .\n",
    "docker run -p 5000:5000 weanwise-health"
   ]
  },
  {
   "cell_type": "code",
   "execution_count": null,
   "id": "9b124be0-4432-451d-b1d5-a8a5afad984a",
   "metadata": {},
   "outputs": [],
   "source": [
    "gcloud auth login\n",
    "gcloud config set project YOUR_PROJECT_ID"
   ]
  }
 ],
 "metadata": {
  "kernelspec": {
   "display_name": "anaconda-panel-2023.05-py310",
   "language": "python",
   "name": "conda-env-anaconda-panel-2023.05-py310-py"
  },
  "language_info": {
   "codemirror_mode": {
    "name": "ipython",
    "version": 3
   },
   "file_extension": ".py",
   "mimetype": "text/x-python",
   "name": "python",
   "nbconvert_exporter": "python",
   "pygments_lexer": "ipython3",
   "version": "3.11.5"
  }
 },
 "nbformat": 4,
 "nbformat_minor": 5
}
